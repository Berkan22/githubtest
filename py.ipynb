{
 "cells": [
  {
   "cell_type": "code",
   "execution_count": 1,
   "metadata": {},
   "outputs": [],
   "source": [
    "import pandas as pd\n",
    "import numpy as np\n",
    "import math\n",
    "import matplotlib.pyplot as plt\n",
    "import random\n",
    "from sklearn.model_selection import train_test_split\n",
    "from sklearn.metrics import r2_score\n"
   ]
  },
  {
   "cell_type": "markdown",
   "metadata": {},
   "source": [
    "**Problem 1**: Preparation of the data"
   ]
  },
  {
   "cell_type": "code",
   "execution_count": 2,
   "metadata": {},
   "outputs": [
    {
     "data": {
      "text/plain": [
       "(6435, 8)"
      ]
     },
     "execution_count": 2,
     "metadata": {},
     "output_type": "execute_result"
    }
   ],
   "source": [
    "dataframe1 = pd.read_csv('Walmart.csv')\n",
    "dataframe1.shape"
   ]
  },
  {
   "cell_type": "code",
   "execution_count": 3,
   "metadata": {},
   "outputs": [
    {
     "data": {
      "text/html": [
       "<div>\n",
       "<style scoped>\n",
       "    .dataframe tbody tr th:only-of-type {\n",
       "        vertical-align: middle;\n",
       "    }\n",
       "\n",
       "    .dataframe tbody tr th {\n",
       "        vertical-align: top;\n",
       "    }\n",
       "\n",
       "    .dataframe thead th {\n",
       "        text-align: right;\n",
       "    }\n",
       "</style>\n",
       "<table border=\"1\" class=\"dataframe\">\n",
       "  <thead>\n",
       "    <tr style=\"text-align: right;\">\n",
       "      <th></th>\n",
       "      <th>Weekly_Sales</th>\n",
       "      <th>Temperature</th>\n",
       "      <th>Fuel_Price</th>\n",
       "      <th>CPI</th>\n",
       "      <th>Unemployment</th>\n",
       "    </tr>\n",
       "  </thead>\n",
       "  <tbody>\n",
       "    <tr>\n",
       "      <th>0</th>\n",
       "      <td>1643690.90</td>\n",
       "      <td>42.31</td>\n",
       "      <td>2.572</td>\n",
       "      <td>211.096358</td>\n",
       "      <td>8.106</td>\n",
       "    </tr>\n",
       "    <tr>\n",
       "      <th>1</th>\n",
       "      <td>1641957.44</td>\n",
       "      <td>38.51</td>\n",
       "      <td>2.548</td>\n",
       "      <td>211.242170</td>\n",
       "      <td>8.106</td>\n",
       "    </tr>\n",
       "    <tr>\n",
       "      <th>2</th>\n",
       "      <td>1611968.17</td>\n",
       "      <td>39.93</td>\n",
       "      <td>2.514</td>\n",
       "      <td>211.289143</td>\n",
       "      <td>8.106</td>\n",
       "    </tr>\n",
       "    <tr>\n",
       "      <th>3</th>\n",
       "      <td>1409727.59</td>\n",
       "      <td>46.63</td>\n",
       "      <td>2.561</td>\n",
       "      <td>211.319643</td>\n",
       "      <td>8.106</td>\n",
       "    </tr>\n",
       "    <tr>\n",
       "      <th>4</th>\n",
       "      <td>1554806.68</td>\n",
       "      <td>46.50</td>\n",
       "      <td>2.625</td>\n",
       "      <td>211.350143</td>\n",
       "      <td>8.106</td>\n",
       "    </tr>\n",
       "  </tbody>\n",
       "</table>\n",
       "</div>"
      ],
      "text/plain": [
       "   Weekly_Sales  Temperature  Fuel_Price         CPI  Unemployment\n",
       "0    1643690.90        42.31       2.572  211.096358         8.106\n",
       "1    1641957.44        38.51       2.548  211.242170         8.106\n",
       "2    1611968.17        39.93       2.514  211.289143         8.106\n",
       "3    1409727.59        46.63       2.561  211.319643         8.106\n",
       "4    1554806.68        46.50       2.625  211.350143         8.106"
      ]
     },
     "execution_count": 3,
     "metadata": {},
     "output_type": "execute_result"
    }
   ],
   "source": [
    "dataframe1=dataframe1.drop(columns=['Store','Date','Holiday_Flag'])\n",
    "dataframe1.head()"
   ]
  },
  {
   "cell_type": "code",
   "execution_count": 4,
   "metadata": {},
   "outputs": [
    {
     "data": {
      "text/plain": [
       "(800, 5)"
      ]
     },
     "execution_count": 4,
     "metadata": {},
     "output_type": "execute_result"
    }
   ],
   "source": [
    "dataframe1=dataframe1.iloc[:800]\n",
    "dataframe1.shape"
   ]
  },
  {
   "cell_type": "markdown",
   "metadata": {},
   "source": [
    "**Problem 2**: Splitting the dataset"
   ]
  },
  {
   "cell_type": "code",
   "execution_count": 5,
   "metadata": {},
   "outputs": [
    {
     "data": {
      "text/plain": [
       "(320, 5)"
      ]
     },
     "execution_count": 5,
     "metadata": {},
     "output_type": "execute_result"
    }
   ],
   "source": [
    "X=np.array(dataframe1).astype(float)\n",
    "random.shuffle(X)\n",
    "\n",
    "X_train, X_test = train_test_split(X, test_size=0.4)  # burada train seti std yapabilirsin istersen!!\n",
    "X_test.shape"
   ]
  },
  {
   "cell_type": "markdown",
   "metadata": {},
   "source": [
    "**Problem 3**: Elastic-Net regression\n",
    "\n",
    "$\\min_{x} f(x) = \\frac{1}{2} \\|Ax - b\\|_2^2 + \\lambda \\|x\\|_2^2 + \\rho \\|x\\|_1$\n",
    "\n",
    "$\\nabla f(x) = A^T(Ax - b) + 2\\lambda x + \\rho \\text{sign}(x)$\n",
    "\n",
    "$\\nabla f(x) = 0,  (A^TA + 2\\lambda I)x = A^Tb - \\rho \\text{sign}(x)$\n",
    "\n",
    "$x = (A^TA + 2\\lambda I)^{-1}(A^Tb - \\rho \\text{sign}(x))$"
   ]
  },
  {
   "cell_type": "code",
   "execution_count": 6,
   "metadata": {},
   "outputs": [
    {
     "data": {
      "text/plain": [
       "((480, 5), (480,))"
      ]
     },
     "execution_count": 6,
     "metadata": {},
     "output_type": "execute_result"
    }
   ],
   "source": [
    "A=np.hstack((np.ones((X_train.shape[0],1)),X_train[:,1:]))\n",
    "b=X_train[:,0]    #standardized !!!\n",
    "b=(b-np.mean(b))/np.std(b) \n",
    "A.shape,b.shape"
   ]
  },
  {
   "cell_type": "code",
   "execution_count": 7,
   "metadata": {},
   "outputs": [
    {
     "data": {
      "text/plain": [
       "((320, 5), (320,))"
      ]
     },
     "execution_count": 7,
     "metadata": {},
     "output_type": "execute_result"
    }
   ],
   "source": [
    "#Test:\n",
    "A_test=np.hstack((np.ones((X_test.shape[0],1)),X_test[:,1:]))\n",
    "b_test=X_test[:,0]\n",
    "b_test=(b_test-np.mean(b_test))/np.std(b_test)\n",
    "A_test.shape,b_test.shape"
   ]
  },
  {
   "cell_type": "code",
   "execution_count": 8,
   "metadata": {},
   "outputs": [
    {
     "name": "stdout",
     "output_type": "stream",
     "text": [
      "[-1. -1.  1. -1.  1.]\n",
      "[-1. -1.  1. -1.  1.]\n",
      "[-0.39754677 -0.0102916   0.58909764 -0.01966459  0.44936581]\n"
     ]
    }
   ],
   "source": [
    "lamda1=0.8\n",
    "ro1=1-lamda1\n",
    "#first step all x positive.\n",
    "x=np.ones(A.shape[1])\n",
    "x=np.matmul(np.linalg.inv(np.matmul(A.T,A)+2*lamda1*np.eye(A.shape[1])), np.matmul(A.T, b)-ro1*np.sign(x))\n",
    "print(np.sign(x))\n",
    "x=np.matmul(np.linalg.inv(np.matmul(A.T,A)+2*lamda1*np.eye(A.shape[1])), np.matmul(A.T, b)-ro1*np.sign(x))\n",
    "print(np.sign(x)) #on the second attempt all signs are correct.\n",
    "print(x)"
   ]
  },
  {
   "cell_type": "markdown",
   "metadata": {},
   "source": [
    "x vector is found with $\\nabla f(x) = 0$ equation."
   ]
  },
  {
   "cell_type": "code",
   "execution_count": 9,
   "metadata": {},
   "outputs": [
    {
     "data": {
      "text/plain": [
       "(187.96071066781383, 127.75522800833937, 1.471256508231072)"
      ]
     },
     "execution_count": 9,
     "metadata": {},
     "output_type": "execute_result"
    }
   ],
   "source": [
    "train_loss_func=1/2*np.linalg.norm(np.matmul(A,x)-b)**2+lamda1*np.linalg.norm(x)**2+ro1*np.linalg.norm(x,1)\n",
    "test_loss_func=1/2*np.linalg.norm(np.matmul(A_test,x)-b_test)**2+lamda1*np.linalg.norm(x)**2+ro1*np.linalg.norm(x,1)\n",
    "train_loss_func,test_loss_func,(train_loss_func/test_loss_func) #there is no n in loss function so train loss>test loss !!"
   ]
  },
  {
   "cell_type": "markdown",
   "metadata": {},
   "source": [
    "TEST DATA $R^2Score$:"
   ]
  },
  {
   "cell_type": "code",
   "execution_count": 10,
   "metadata": {},
   "outputs": [
    {
     "name": "stdout",
     "output_type": "stream",
     "text": [
      "R² score: 0.20689979145296888\n"
     ]
    }
   ],
   "source": [
    "y_pred=np.matmul(A_test,x)\n",
    "y_actu=b_test\n",
    "\n",
    "ss_res=np.sum((y_pred-y_actu)**2)\n",
    "ss_tot=np.sum((y_actu-np.sum(y_actu)/y_actu.shape)**2)\n",
    "r2score= 1-ss_res/ss_tot\n",
    "print(\"R² score:\", r2score)"
   ]
  },
  {
   "cell_type": "code",
   "execution_count": 11,
   "metadata": {},
   "outputs": [
    {
     "name": "stdout",
     "output_type": "stream",
     "text": [
      "R² score: 0.215006126513689\n"
     ]
    }
   ],
   "source": [
    "A_all=np.append(A,A_test,axis=0)\n",
    "y_pred=np.matmul(A_all,x)\n",
    "y_actu=np.append(b,b_test)\n",
    "print(\"R² score:\", r2_score(y_actu, y_pred))"
   ]
  },
  {
   "cell_type": "markdown",
   "metadata": {},
   "source": [
    "**Problem 4**: Choosing the optimal parameters"
   ]
  },
  {
   "cell_type": "code",
   "execution_count": 12,
   "metadata": {},
   "outputs": [
    {
     "name": "stdout",
     "output_type": "stream",
     "text": [
      "[-1. -1.  1. -1.  1.]\n",
      "[-1. -1.  1. -1.  1.]\n",
      "[-1.0494488  -0.00976855  0.6642338  -0.01984175  0.50518241]\n",
      "186.7604906605606 127.0882799965898 1.4695335452299143\n"
     ]
    }
   ],
   "source": [
    "lamda1=0.00001\n",
    "ro1=0.00001\n",
    "#first step all x positive.\n",
    "x=np.ones(A.shape[1])\n",
    "x=np.matmul(np.linalg.inv(np.matmul(A.T,A)+2*lamda1*np.eye(A.shape[1])), np.matmul(A.T, b)-ro1*np.sign(x))\n",
    "print(np.sign(x))\n",
    "x=np.matmul(np.linalg.inv(np.matmul(A.T,A)+2*lamda1*np.eye(A.shape[1])), np.matmul(A.T, b)-ro1*np.sign(x))\n",
    "print(np.sign(x)) #on the second attempt all signs are correct.\n",
    "print(x)\n",
    "\n",
    "train_loss_func=1/2*np.linalg.norm(np.matmul(A,x)-b)**2+lamda1*np.linalg.norm(x)**2+ro1*np.linalg.norm(x,1)\n",
    "test_loss_func=1/2*np.linalg.norm(np.matmul(A_test,x)-b_test)**2+lamda1*np.linalg.norm(x)**2+ro1*np.linalg.norm(x,1)\n",
    "print(train_loss_func,test_loss_func,(train_loss_func/test_loss_func)) #there is no n in loss function so train loss>test loss !!"
   ]
  },
  {
   "cell_type": "markdown",
   "metadata": {},
   "source": [
    "Minimum Train and Loss function found in (lamda1=0.00001, ro1=0.00001)."
   ]
  },
  {
   "cell_type": "markdown",
   "metadata": {},
   "source": [
    "**Problem 5**: Results and comparison"
   ]
  },
  {
   "cell_type": "markdown",
   "metadata": {},
   "source": [
    "$y_{pred}=A_{test}x$\n",
    "\n",
    "$y_{actu}=b_{test}$\n",
    "\n",
    "$MLRegression = \\frac{1}{2} \\|A_{test}x - b_{test}\\|_2^2$\n",
    "\n",
    "$MSE=\\frac{1}{n} \\sum_{i=1}^{n}\\left((y_{actu}-y_{pred})^2\\right)$\n",
    "\n",
    "$MLRegression =  \\frac{1}{2} \\|y_{pred} - y_{actu}\\|_2^2 =  \\frac{1}{2} \\sum_{i=1}^{n}\\left((y_{actu}-y_{pred})^2\\right) = MSE*\\frac{n}{2}$\n"
   ]
  },
  {
   "cell_type": "markdown",
   "metadata": {},
   "source": []
  },
  {
   "cell_type": "code",
   "execution_count": 13,
   "metadata": {},
   "outputs": [
    {
     "name": "stdout",
     "output_type": "stream",
     "text": [
      "MSE: 0.794301497058496 \n",
      "ML Regression: 127.08823952935937 MLR/MSE: 160.00000000000003\n"
     ]
    }
   ],
   "source": [
    "y_pred=np.matmul(A_test,x)\n",
    "y_actu=b_test\n",
    "\n",
    "MSE=np.mean((y_pred-y_actu)**2)\n",
    "MLR=1/2*np.linalg.norm(np.matmul(A_test,x)-b_test)**2\n",
    "print('MSE:',MSE,'\\nML Regression:',MLR,'MLR/MSE:',MLR/MSE)"
   ]
  },
  {
   "cell_type": "markdown",
   "metadata": {},
   "source": [
    "**Problem 6**: Another experimental setup"
   ]
  },
  {
   "cell_type": "code",
   "execution_count": 14,
   "metadata": {},
   "outputs": [
    {
     "name": "stdout",
     "output_type": "stream",
     "text": [
      "[-1. -1.  1. -1.  1.]\n",
      "[-1. -1.  1. -1.  1.]\n",
      "[-0.66565781 -0.00923903  0.64201345 -0.01639249  0.35387869]\n",
      "128.1908603618097 185.28494986075617 0.6918579218557506\n",
      "MSE: 0.772020513251182 \n",
      "ML Regression: 185.28492318028367 MLR/MSE: 239.99999999999997\n"
     ]
    }
   ],
   "source": [
    "X_train, X_test = train_test_split(X, test_size=0.6)  # burada train seti std yapabilirsin istersen!!\n",
    "\n",
    "A=np.hstack((np.ones((X_train.shape[0],1)),X_train[:,1:]))\n",
    "b=X_train[:,0]    #standardized !!!\n",
    "b=(b-np.mean(b))/np.std(b) \n",
    "A_test=np.hstack((np.ones((X_test.shape[0],1)),X_test[:,1:]))\n",
    "b_test=X_test[:,0]\n",
    "b_test=(b_test-np.mean(b_test))/np.std(b_test)\n",
    "\n",
    "lamda1=0.00001\n",
    "ro1=0.00001\n",
    "#first step all x positive.\n",
    "x=np.ones(A.shape[1])\n",
    "x=np.matmul(np.linalg.inv(np.matmul(A.T,A)+2*lamda1*np.eye(A.shape[1])), np.matmul(A.T, b)-ro1*np.sign(x))\n",
    "print(np.sign(x))\n",
    "x=np.matmul(np.linalg.inv(np.matmul(A.T,A)+2*lamda1*np.eye(A.shape[1])), np.matmul(A.T, b)-ro1*np.sign(x))\n",
    "print(np.sign(x)) #on the second attempt all signs are correct.\n",
    "print(x)\n",
    "\n",
    "train_loss_func=1/2*np.linalg.norm(np.matmul(A,x)-b)**2+lamda1*np.linalg.norm(x)**2+ro1*np.linalg.norm(x,1)\n",
    "test_loss_func=1/2*np.linalg.norm(np.matmul(A_test,x)-b_test)**2+lamda1*np.linalg.norm(x)**2+ro1*np.linalg.norm(x,1)\n",
    "print(train_loss_func,test_loss_func,(train_loss_func/test_loss_func)) #there is no n in loss function so train loss>test loss !!\n",
    "\n",
    "y_pred=np.matmul(A_test,x)\n",
    "y_actu=b_test\n",
    "\n",
    "MSE=np.mean((y_pred-y_actu)**2)\n",
    "MLR=1/2*np.linalg.norm(np.matmul(A_test,x)-b_test)**2\n",
    "print('MSE:',MSE,'\\nML Regression:',MLR,'MLR/MSE:',MLR/MSE)"
   ]
  },
  {
   "cell_type": "markdown",
   "metadata": {},
   "source": [
    "Difference between 0.4 and 0.6 train set is 0.02 in MSE. Is that means Linear model does not need much data to train??"
   ]
  },
  {
   "cell_type": "markdown",
   "metadata": {},
   "source": [
    "**Problem 7**: Logistic Regression with $L_1$ penalty"
   ]
  },
  {
   "cell_type": "code",
   "execution_count": 15,
   "metadata": {},
   "outputs": [
    {
     "data": {
      "text/plain": [
       "(569, 32)"
      ]
     },
     "execution_count": 15,
     "metadata": {},
     "output_type": "execute_result"
    }
   ],
   "source": [
    "dataframe2 = pd.read_csv('breast-cancer.csv')\n",
    "dataframe2.shape"
   ]
  },
  {
   "cell_type": "code",
   "execution_count": 16,
   "metadata": {},
   "outputs": [
    {
     "data": {
      "text/html": [
       "<div>\n",
       "<style scoped>\n",
       "    .dataframe tbody tr th:only-of-type {\n",
       "        vertical-align: middle;\n",
       "    }\n",
       "\n",
       "    .dataframe tbody tr th {\n",
       "        vertical-align: top;\n",
       "    }\n",
       "\n",
       "    .dataframe thead th {\n",
       "        text-align: right;\n",
       "    }\n",
       "</style>\n",
       "<table border=\"1\" class=\"dataframe\">\n",
       "  <thead>\n",
       "    <tr style=\"text-align: right;\">\n",
       "      <th></th>\n",
       "      <th>diagnosis</th>\n",
       "      <th>radius_mean</th>\n",
       "      <th>texture_mean</th>\n",
       "      <th>perimeter_mean</th>\n",
       "      <th>area_mean</th>\n",
       "      <th>smoothness_mean</th>\n",
       "      <th>compactness_mean</th>\n",
       "      <th>concavity_mean</th>\n",
       "      <th>concave points_mean</th>\n",
       "      <th>symmetry_mean</th>\n",
       "      <th>...</th>\n",
       "      <th>radius_worst</th>\n",
       "      <th>texture_worst</th>\n",
       "      <th>perimeter_worst</th>\n",
       "      <th>area_worst</th>\n",
       "      <th>smoothness_worst</th>\n",
       "      <th>compactness_worst</th>\n",
       "      <th>concavity_worst</th>\n",
       "      <th>concave points_worst</th>\n",
       "      <th>symmetry_worst</th>\n",
       "      <th>fractal_dimension_worst</th>\n",
       "    </tr>\n",
       "  </thead>\n",
       "  <tbody>\n",
       "    <tr>\n",
       "      <th>0</th>\n",
       "      <td>M</td>\n",
       "      <td>17.99</td>\n",
       "      <td>10.38</td>\n",
       "      <td>122.80</td>\n",
       "      <td>1001.0</td>\n",
       "      <td>0.11840</td>\n",
       "      <td>0.27760</td>\n",
       "      <td>0.3001</td>\n",
       "      <td>0.14710</td>\n",
       "      <td>0.2419</td>\n",
       "      <td>...</td>\n",
       "      <td>25.38</td>\n",
       "      <td>17.33</td>\n",
       "      <td>184.60</td>\n",
       "      <td>2019.0</td>\n",
       "      <td>0.1622</td>\n",
       "      <td>0.6656</td>\n",
       "      <td>0.7119</td>\n",
       "      <td>0.2654</td>\n",
       "      <td>0.4601</td>\n",
       "      <td>0.11890</td>\n",
       "    </tr>\n",
       "    <tr>\n",
       "      <th>1</th>\n",
       "      <td>M</td>\n",
       "      <td>20.57</td>\n",
       "      <td>17.77</td>\n",
       "      <td>132.90</td>\n",
       "      <td>1326.0</td>\n",
       "      <td>0.08474</td>\n",
       "      <td>0.07864</td>\n",
       "      <td>0.0869</td>\n",
       "      <td>0.07017</td>\n",
       "      <td>0.1812</td>\n",
       "      <td>...</td>\n",
       "      <td>24.99</td>\n",
       "      <td>23.41</td>\n",
       "      <td>158.80</td>\n",
       "      <td>1956.0</td>\n",
       "      <td>0.1238</td>\n",
       "      <td>0.1866</td>\n",
       "      <td>0.2416</td>\n",
       "      <td>0.1860</td>\n",
       "      <td>0.2750</td>\n",
       "      <td>0.08902</td>\n",
       "    </tr>\n",
       "    <tr>\n",
       "      <th>2</th>\n",
       "      <td>M</td>\n",
       "      <td>19.69</td>\n",
       "      <td>21.25</td>\n",
       "      <td>130.00</td>\n",
       "      <td>1203.0</td>\n",
       "      <td>0.10960</td>\n",
       "      <td>0.15990</td>\n",
       "      <td>0.1974</td>\n",
       "      <td>0.12790</td>\n",
       "      <td>0.2069</td>\n",
       "      <td>...</td>\n",
       "      <td>23.57</td>\n",
       "      <td>25.53</td>\n",
       "      <td>152.50</td>\n",
       "      <td>1709.0</td>\n",
       "      <td>0.1444</td>\n",
       "      <td>0.4245</td>\n",
       "      <td>0.4504</td>\n",
       "      <td>0.2430</td>\n",
       "      <td>0.3613</td>\n",
       "      <td>0.08758</td>\n",
       "    </tr>\n",
       "    <tr>\n",
       "      <th>3</th>\n",
       "      <td>M</td>\n",
       "      <td>11.42</td>\n",
       "      <td>20.38</td>\n",
       "      <td>77.58</td>\n",
       "      <td>386.1</td>\n",
       "      <td>0.14250</td>\n",
       "      <td>0.28390</td>\n",
       "      <td>0.2414</td>\n",
       "      <td>0.10520</td>\n",
       "      <td>0.2597</td>\n",
       "      <td>...</td>\n",
       "      <td>14.91</td>\n",
       "      <td>26.50</td>\n",
       "      <td>98.87</td>\n",
       "      <td>567.7</td>\n",
       "      <td>0.2098</td>\n",
       "      <td>0.8663</td>\n",
       "      <td>0.6869</td>\n",
       "      <td>0.2575</td>\n",
       "      <td>0.6638</td>\n",
       "      <td>0.17300</td>\n",
       "    </tr>\n",
       "    <tr>\n",
       "      <th>4</th>\n",
       "      <td>M</td>\n",
       "      <td>20.29</td>\n",
       "      <td>14.34</td>\n",
       "      <td>135.10</td>\n",
       "      <td>1297.0</td>\n",
       "      <td>0.10030</td>\n",
       "      <td>0.13280</td>\n",
       "      <td>0.1980</td>\n",
       "      <td>0.10430</td>\n",
       "      <td>0.1809</td>\n",
       "      <td>...</td>\n",
       "      <td>22.54</td>\n",
       "      <td>16.67</td>\n",
       "      <td>152.20</td>\n",
       "      <td>1575.0</td>\n",
       "      <td>0.1374</td>\n",
       "      <td>0.2050</td>\n",
       "      <td>0.4000</td>\n",
       "      <td>0.1625</td>\n",
       "      <td>0.2364</td>\n",
       "      <td>0.07678</td>\n",
       "    </tr>\n",
       "  </tbody>\n",
       "</table>\n",
       "<p>5 rows × 31 columns</p>\n",
       "</div>"
      ],
      "text/plain": [
       "  diagnosis  radius_mean  texture_mean  perimeter_mean  area_mean  \\\n",
       "0         M        17.99         10.38          122.80     1001.0   \n",
       "1         M        20.57         17.77          132.90     1326.0   \n",
       "2         M        19.69         21.25          130.00     1203.0   \n",
       "3         M        11.42         20.38           77.58      386.1   \n",
       "4         M        20.29         14.34          135.10     1297.0   \n",
       "\n",
       "   smoothness_mean  compactness_mean  concavity_mean  concave points_mean  \\\n",
       "0          0.11840           0.27760          0.3001              0.14710   \n",
       "1          0.08474           0.07864          0.0869              0.07017   \n",
       "2          0.10960           0.15990          0.1974              0.12790   \n",
       "3          0.14250           0.28390          0.2414              0.10520   \n",
       "4          0.10030           0.13280          0.1980              0.10430   \n",
       "\n",
       "   symmetry_mean  ...  radius_worst  texture_worst  perimeter_worst  \\\n",
       "0         0.2419  ...         25.38          17.33           184.60   \n",
       "1         0.1812  ...         24.99          23.41           158.80   \n",
       "2         0.2069  ...         23.57          25.53           152.50   \n",
       "3         0.2597  ...         14.91          26.50            98.87   \n",
       "4         0.1809  ...         22.54          16.67           152.20   \n",
       "\n",
       "   area_worst  smoothness_worst  compactness_worst  concavity_worst  \\\n",
       "0      2019.0            0.1622             0.6656           0.7119   \n",
       "1      1956.0            0.1238             0.1866           0.2416   \n",
       "2      1709.0            0.1444             0.4245           0.4504   \n",
       "3       567.7            0.2098             0.8663           0.6869   \n",
       "4      1575.0            0.1374             0.2050           0.4000   \n",
       "\n",
       "   concave points_worst  symmetry_worst  fractal_dimension_worst  \n",
       "0                0.2654          0.4601                  0.11890  \n",
       "1                0.1860          0.2750                  0.08902  \n",
       "2                0.2430          0.3613                  0.08758  \n",
       "3                0.2575          0.6638                  0.17300  \n",
       "4                0.1625          0.2364                  0.07678  \n",
       "\n",
       "[5 rows x 31 columns]"
      ]
     },
     "execution_count": 16,
     "metadata": {},
     "output_type": "execute_result"
    }
   ],
   "source": [
    "dataframe2=dataframe2.drop(columns=['id'])\n",
    "dataframe2.head()"
   ]
  },
  {
   "cell_type": "code",
   "execution_count": 17,
   "metadata": {},
   "outputs": [
    {
     "data": {
      "text/plain": [
       "(228, 31)"
      ]
     },
     "execution_count": 17,
     "metadata": {},
     "output_type": "execute_result"
    }
   ],
   "source": [
    "X=np.array(dataframe2)[:,1:].astype(float)\n",
    "Y=np.array([ i=='M' for i in np.array(dataframe2)[:,0]])\n",
    "AA=np.hstack((X,Y.reshape(-1,1)))\n",
    "random.shuffle(AA)\n",
    "\n",
    "X_train, X_test = train_test_split(AA, test_size=0.4)  # burada train seti std yapabilirsin istersen!!\n",
    "X_test.shape"
   ]
  }
 ],
 "metadata": {
  "kernelspec": {
   "display_name": "Python 3",
   "language": "python",
   "name": "python3"
  },
  "language_info": {
   "codemirror_mode": {
    "name": "ipython",
    "version": 3
   },
   "file_extension": ".py",
   "mimetype": "text/x-python",
   "name": "python",
   "nbconvert_exporter": "python",
   "pygments_lexer": "ipython3",
   "version": "3.10.1"
  }
 },
 "nbformat": 4,
 "nbformat_minor": 2
}
